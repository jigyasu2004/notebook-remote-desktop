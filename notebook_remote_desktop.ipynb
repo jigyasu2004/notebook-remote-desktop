{
 "cells": [
  {
   "cell_type": "code",
   "execution_count": null,
   "metadata": {
    "trusted": true
   },
   "outputs": [],
   "source": [
    "!apt-get update\n",
    "!apt-get install -y \\\n",
    "    xfce4 xfce4-goodies \\\n",
    "    x11vnc xvfb novnc websockify python3-pyinotify \\\n",
    "    firefox\n",
    "\n",
    "!pip install pyngrok\n"
   ]
  },
  {
   "cell_type": "code",
   "execution_count": null,
   "metadata": {
    "execution": {
     "iopub.execute_input": "2025-03-27T20:29:31.055913Z",
     "iopub.status.busy": "2025-03-27T20:29:31.055528Z",
     "iopub.status.idle": "2025-03-27T20:29:31.060656Z",
     "shell.execute_reply": "2025-03-27T20:29:31.059460Z",
     "shell.execute_reply.started": "2025-03-27T20:29:31.055884Z"
    },
    "trusted": true
   },
   "outputs": [],
   "source": [
    "import os\n",
    "os.environ[\"NGROK_AUTH_TOKEN\"] = \"YOUR_NGROK_TOKEN\"\n",
    "!ngrok config add-authtoken <add ngrok authtoken>"
   ]
  },
  {
   "cell_type": "code",
   "execution_count": null,
   "metadata": {
    "execution": {
     "iopub.execute_input": "2025-03-27T21:24:55.484079Z",
     "iopub.status.busy": "2025-03-27T21:24:55.482737Z",
     "iopub.status.idle": "2025-03-27T21:24:57.233894Z",
     "shell.execute_reply": "2025-03-27T21:24:57.230385Z",
     "shell.execute_reply.started": "2025-03-27T21:24:55.484002Z"
    },
    "trusted": true
   },
   "outputs": [],
   "source": [
    "import subprocess, threading, time, os\n",
    "from pyngrok import ngrok\n",
    "\n",
    "# Set a VNC password, stored in /tmp/vncpass\n",
    "vnc_password = \"notebook\"\n",
    "!x11vnc -storepasswd {vnc_password} /tmp/vncpass\n",
    "\n",
    "def run_command(cmd_list):\n",
    "    subprocess.run(cmd_list, check=True)\n",
    "\n",
    "# 1. Start Xvfb (virtual display) on :1\n",
    "thread_xvfb = threading.Thread(\n",
    "    target=run_command,\n",
    "    args=([\"Xvfb\", \":1\", \"-screen\", \"0\", \"1366x768x16\", \"-ac\", \"-pn\", \"-noreset\"],),\n",
    "    daemon=True\n",
    ")\n",
    "thread_xvfb.start()\n",
    "time.sleep(2)\n",
    "\n",
    "# 2. Start x11vnc to serve that display\n",
    "thread_x11vnc = threading.Thread(\n",
    "    target=run_command,\n",
    "    args=([\"x11vnc\", \"-display\", \":1\", \"-rfbauth\", \"/tmp/vncpass\", \"-forever\", \"-shared\", \"-rfbport\", \"5901\"],),\n",
    "    daemon=True\n",
    ")\n",
    "thread_x11vnc.start()\n",
    "time.sleep(2)\n",
    "\n",
    "# 3. Start the XFCE desktop environment on :1\n",
    "#    This gives you a more familiar desktop (panels, menus, etc.).\n",
    "os.environ[\"DISPLAY\"] = \":1\"\n",
    "thread_xfce = threading.Thread(\n",
    "    target=run_command,\n",
    "    args=([\"startxfce4\"],),\n",
    "    daemon=True\n",
    ")\n",
    "thread_xfce.start()\n",
    "time.sleep(5)  # Give XFCE a few seconds to initialize\n",
    "\n",
    "# 4. Automatically launch Firefox in the XFCE session\n",
    "subprocess.Popen([\"firefox\"], env={\"DISPLAY\":\":1\"})\n",
    "\n",
    "# 5. Start noVNC/websockify on port 6901\n",
    "#    This serves an HTML5 VNC client at http://localhost:6901/vnc.html\n",
    "thread_noVNC = threading.Thread(\n",
    "    target=run_command,\n",
    "    args=([\"websockify\", \"--web\", \"/usr/share/novnc/\", \"6901\", \"localhost:5901\"],),\n",
    "    daemon=True\n",
    ")\n",
    "thread_noVNC.start()\n",
    "time.sleep(3)\n",
    "\n",
    "# 6. Create a public URL with ngrok on port 6901 using HTTP\n",
    "public_url = ngrok.connect(6901, \"http\")\n",
    "print(\"noVNC is running. Please open the following URL in a new browser tab:\")\n",
    "print(public_url.public_url + \"/vnc.html\")\n",
    "\n",
    "print(\"\\nWhen prompted for a password, enter:\", vnc_password)\n",
    "\n"
   ]
  }
 ],
 "metadata": {
  "kaggle": {
   "accelerator": "none",
   "dataSources": [],
   "dockerImageVersionId": 30918,
   "isGpuEnabled": false,
   "isInternetEnabled": true,
   "language": "python",
   "sourceType": "notebook"
  },
  "kernelspec": {
   "display_name": "Python 3",
   "language": "python",
   "name": "python3"
  },
  "language_info": {
   "codemirror_mode": {
    "name": "ipython",
    "version": 3
   },
   "file_extension": ".py",
   "mimetype": "text/x-python",
   "name": "python",
   "nbconvert_exporter": "python",
   "pygments_lexer": "ipython3",
   "version": "3.10.12"
  }
 },
 "nbformat": 4,
 "nbformat_minor": 4
}
